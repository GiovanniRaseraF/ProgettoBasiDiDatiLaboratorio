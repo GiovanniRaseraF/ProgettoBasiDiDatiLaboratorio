{
 "cells": [
  {
   "cell_type": "code",
   "execution_count": 1,
   "metadata": {},
   "outputs": [],
   "source": [
    "import json\n",
    "import pandas as pd\n",
    "import numpy as np\n",
    "import os\n",
    "import time\n",
    "import pprint\n",
    "import csv\n",
    "import random\n",
    "import string\n",
    "import re"
   ]
  },
  {
   "cell_type": "code",
   "execution_count": 2,
   "metadata": {},
   "outputs": [],
   "source": [
    "def serialize_json(folder, filename, data):\n",
    "    if not os.path.exists(folder):\n",
    "        os.makedirs(folder, exist_ok=True)\n",
    "    with open(f\"{folder}/{filename}\", 'w', encoding='utf-8') as f:\n",
    "        json.dump(data, f, ensure_ascii=False, indent=4)\n",
    "        f.close()\n",
    "    print(f\"Data serialized to path: {folder}/{filename}\")\n",
    "\n",
    "def read_json(path):\n",
    "    if os.path.exists(path):\n",
    "        with open(path, \"r\", encoding=\"utf8\") as file:\n",
    "            data = json.load(file)\n",
    "        print(f\"Data read from path: {path}\")\n",
    "        return data\n",
    "    else:\n",
    "        print(f\"No data found at path: {path}\")\n",
    "        return {}"
   ]
  },
  {
   "cell_type": "code",
   "execution_count": 3,
   "metadata": {},
   "outputs": [
    {
     "name": "stdout",
     "output_type": "stream",
     "text": [
      "Data read from path: CSV/ITGivenMale.json\n",
      "Data read from path: CSV/ITGivenFemale.json\n"
     ]
    }
   ],
   "source": [
    "maschi =read_json(\"CSV/ITGivenMale.json\")\n",
    "femmine =read_json(\"CSV/ITGivenFemale.json\")\n",
    "\n",
    "nomi = []\n",
    "for persona in maschi:\n",
    "    utente={}\n",
    "    utente[\"nome\"] = persona[\"name\"]\n",
    "    nomi.append(utente)\n",
    "    \n",
    "for persona in femmine:\n",
    "    utente={}\n",
    "    utente[\"nome\"] = persona[\"name\"]\n",
    "    nomi.append(utente)    \n",
    "\n",
    "\n",
    "with open('CSV/cognomi.csv', newline='') as f:\n",
    "    reader = csv.reader(f)\n",
    "    data = list(reader)\n",
    "\n",
    "cognomi = []\n",
    "for user in data:\n",
    "    if(user[0] != \"Cognomi\"):\n",
    "        cognome={}\n",
    "        cognome_to_clean = user[0].lower().capitalize()\n",
    "        cognome[\"cognome\"]= cognome_to_clean\n",
    "        cognome[\"clean\"]=  re.sub(r\"[^a-zA-Z\\s+]\",\" \",cognome_to_clean)\n",
    "        cognomi.append(cognome)     \n",
    "     \n",
    "with open('CSV/Numeri_civici.csv', newline='') as f:\n",
    "    reader = csv.reader(f)\n",
    "    data = list(reader)\n",
    "indirizzi = []\n",
    "for ind in data:\n",
    "        indirizzo={}\n",
    "        indirizzo[\"citta\"]= ind[2].lower().capitalize()\n",
    "        indirizzo[\"via\"]=  re.sub(r\"[^a-zA-Z\\s+]\",\" \",ind[4].lower().capitalize())+\" \"+ind[5].lower().capitalize()+\" \"+ind[6]\n",
    "        indirizzi.append(indirizzo)\n"
   ]
  },
  {
   "cell_type": "code",
   "execution_count": 4,
   "metadata": {},
   "outputs": [],
   "source": [
    "colonne=[\"nome\",\"cognome\",\"clean\",\"citta\",\"via\"]\n",
    "registro=pd.DataFrame(columns=colonne)\n"
   ]
  },
  {
   "cell_type": "code",
   "execution_count": 5,
   "metadata": {},
   "outputs": [],
   "source": [
    "cliente={}\n",
    "for k in range(0,5000):\n",
    "    x = random.randint(0,int((len(nomi)-1)/2))\n",
    "    y = random.randint(0,int((len(cognomi)-1)/2))\n",
    "    z = random.randint(0,int((len(indirizzi)-1)/2))\n",
    "    cliente['nome']= nomi[x]['nome']\n",
    "    cliente['cognome'] = cognomi[y]['cognome']\n",
    "    cliente['clean'] = cognomi[y]['clean']\n",
    "    cliente['citta'] = indirizzi[z]['citta']\n",
    "    cliente['via'] = indirizzi[z]['via']\n",
    "    registro.loc[k] = cliente\n",
    "\n",
    "#registro[:5]\n",
    "\n"
   ]
  },
  {
   "cell_type": "code",
   "execution_count": 6,
   "metadata": {},
   "outputs": [],
   "source": [
    "dati_anagrafici = []\n",
    "for row in registro.iterrows():\n",
    "    contatto = {}\n",
    "    n=row[1]['nome']\n",
    "    c=row[1]['clean']\n",
    "    ln = len(n)\n",
    "    cn = len(c)\n",
    "    maxl= (random.randint(1,ln-1))\n",
    "    maxcl= (random.randint(1,cn-1))\n",
    "    p1= c[0]+c[1].upper()+c[maxcl].upper()+n[0].upper()+n[1].upper()+n[maxl].upper()\n",
    "    p2= str(random.randint(0,9))+str(random.randint(0,9))+random.choice(string.ascii_letters).upper()+str(random.randint(0,3))+str(random.randint(0,9))+random.choice(string.ascii_letters).upper()+str(random.randint(0,9))+str(random.randint(0,9))+str(random.randint(0,9))+random.choice(string.ascii_letters).upper()\n",
    "    cf =p1+p2\n",
    "    contatto[\"nome\"]=n\n",
    "    contatto[\"cognome\"]=row[1]['cognome']\n",
    "    contatto[\"codiceFiscale\"]=cf\n",
    "    contatto[\"citta\"]=row[1]['citta']\n",
    "    contatto[\"via\"]=row[1]['via']\n",
    "    dati_anagrafici.append(contatto)\n",
    "\n",
    "#print(len(dati_anagrafici))"
   ]
  },
  {
   "cell_type": "code",
   "execution_count": 13,
   "metadata": {},
   "outputs": [],
   "source": [
    "with open('CSV/friuli-ep.csv', newline='') as f:\n",
    "    reader = csv.reader(f,delimiter=';')\n",
    "    data = list(reader)\n",
    "\n",
    "aziende = []\n",
    "for user in data[:len(data)]:\n",
    "        azienda={}\n",
    "        azienda[\"ragioneSociale\"] = user[1].lower().capitalize()\n",
    "        azienda[\"indirizzo\"]= re.sub(r\"[^a-zA-Z]\",\" \",user[2])\n",
    "        azienda[\"citta\"]= user[4].lower().capitalize()\n",
    "        azienda[\"tipologia\"]= \"ente pubblico\"\n",
    "        aziende.append(azienda)\n",
    "        \n",
    "with open('CSV/friuli-a.csv', newline='') as f:\n",
    "    reader = csv.reader(f,delimiter=';')\n",
    "    data = list(reader)\n",
    "\n",
    "for user in data[:len(data)]:\n",
    "        azienda={}\n",
    "        azienda[\"ragioneSociale\"] = user[1].lower().capitalize()\n",
    "        azienda[\"indirizzo\"]= re.sub(r\"[^a-zA-Z]\",\" \",user[2])\n",
    "        azienda[\"citta\"]= user[4].lower().capitalize()\n",
    "        azienda[\"tipologia\"]= \"azienda\"\n",
    "        aziende.append(azienda)\n",
    "#print(aziende[:3])"
   ]
  },
  {
   "cell_type": "code",
   "execution_count": 14,
   "metadata": {},
   "outputs": [],
   "source": [
    "dati_aziendali = []\n",
    "z=0\n",
    "for k in range(2501,4997):\n",
    "    factory={}\n",
    "    factory['nome_referente']= dati_anagrafici[k]['nome']\n",
    "    factory['cognome_referente'] = dati_anagrafici[k]['cognome']\n",
    "    factory['codiceFiscaleReferente']= dati_anagrafici[k]['codiceFiscale']\n",
    "    factory['ragioneSociale']= aziende[z]['ragioneSociale']\n",
    "    factory['citta'] = aziende[z]['citta']\n",
    "    factory['indirizzo'] = aziende[z]['indirizzo'].replace(\"X\", \"\")\n",
    "    factory['tipologia'] = aziende[z]['tipologia']\n",
    "    z= z+1\n",
    "    dati_aziendali.append(factory)"
   ]
  },
  {
   "cell_type": "code",
   "execution_count": 9,
   "metadata": {},
   "outputs": [],
   "source": [
    "import csv\n",
    "\n",
    "with open('CSV/dati_anagrafici_clienti.csv', mode='w',newline='', encoding='utf-8') as client_file:\n",
    "    client_writer = csv.writer(client_file, delimiter=',', quotechar='\"', quoting=csv.QUOTE_MINIMAL)\n",
    "    \n",
    "    for dati in dati_anagrafici:\n",
    "        client_writer.writerow([dati[\"nome\"],dati[\"cognome\"],dati[\"codiceFiscale\"],dati['citta'],dati['via']])"
   ]
  },
  {
   "cell_type": "code",
   "execution_count": 15,
   "metadata": {},
   "outputs": [],
   "source": [
    "with open('CSV/dati_anagrafici_aziende.csv', mode='w',newline='', encoding='utf-8') as client_file:\n",
    "    client_writer = csv.writer(client_file, delimiter=',', quotechar='\"', quoting=csv.QUOTE_MINIMAL)\n",
    "    for fctry in dati_aziendali:\n",
    "        client_writer.writerow([fctry[\"nome_referente\"],fctry[\"cognome_referente\"],fctry[\"ragioneSociale\"],fctry[\"tipologia\"],fctry[\"codiceFiscaleReferente\"],fctry['citta'],fctry['indirizzo']])\n"
   ]
  }
 ],
 "metadata": {
  "kernelspec": {
   "display_name": "Python 3",
   "language": "python",
   "name": "python3"
  },
  "language_info": {
   "codemirror_mode": {
    "name": "ipython",
    "version": 3
   },
   "file_extension": ".py",
   "mimetype": "text/x-python",
   "name": "python",
   "nbconvert_exporter": "python",
   "pygments_lexer": "ipython3",
   "version": "3.8.5"
  }
 },
 "nbformat": 4,
 "nbformat_minor": 4
}
